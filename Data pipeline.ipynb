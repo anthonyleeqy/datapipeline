{
 "cells": [
  {
   "cell_type": "markdown",
   "metadata": {},
   "source": [
    "# A Data Pipeline to Ingest Data from SQL Server and ready for Model"
   ]
  },
  {
   "cell_type": "code",
   "execution_count": 1,
   "metadata": {
    "ExecuteTime": {
     "end_time": "2022-01-27T01:53:03.270149Z",
     "start_time": "2022-01-27T01:53:01.835737Z"
    },
    "collapsed": true,
    "jupyter": {
     "outputs_hidden": true
    },
    "scrolled": true,
    "tags": []
   },
   "outputs": [
    {
     "ename": "ModuleNotFoundError",
     "evalue": "No module named 'pymssql'",
     "output_type": "error",
     "traceback": [
      "\u001b[1;31m---------------------------------------------------------------------------\u001b[0m",
      "\u001b[1;31mModuleNotFoundError\u001b[0m                       Traceback (most recent call last)",
      "Input \u001b[1;32mIn [1]\u001b[0m, in \u001b[0;36m<cell line: 4>\u001b[1;34m()\u001b[0m\n\u001b[0;32m      2\u001b[0m \u001b[38;5;28;01mimport\u001b[39;00m \u001b[38;5;21;01mos\u001b[39;00m \n\u001b[0;32m      3\u001b[0m \u001b[38;5;28;01mimport\u001b[39;00m \u001b[38;5;21;01mpathlib\u001b[39;00m\n\u001b[1;32m----> 4\u001b[0m \u001b[38;5;28;01mimport\u001b[39;00m \u001b[38;5;21;01mpymssql\u001b[39;00m\n\u001b[0;32m      5\u001b[0m \u001b[38;5;28;01mfrom\u001b[39;00m \u001b[38;5;21;01msqlalchemy\u001b[39;00m \u001b[38;5;28;01mimport\u001b[39;00m create_engine, text\n\u001b[0;32m      6\u001b[0m \u001b[38;5;28;01mimport\u001b[39;00m \u001b[38;5;21;01mbcpy\u001b[39;00m\n",
      "\u001b[1;31mModuleNotFoundError\u001b[0m: No module named 'pymssql'"
     ]
    }
   ],
   "source": [
    "#Import packages\n",
    "import os \n",
    "import pathlib\n",
    "import pymssql\n",
    "from sqlalchemy import create_engine, text\n",
    "import bcpy\n",
    "import pyodbc\n",
    "import openpyxl\n",
    "import clevercsv\n",
    "from icecream import ic\n",
    "import pyperclip\n",
    "\n",
    "\n",
    "#import pyperclip\n",
    "\n",
    "\n",
    "import pandas as pd\n",
    "server = '#####'\n",
    "print(server)\n",
    "db = '#####'\n",
    "###Server name and database name are redacted. Put SQL and Database name here to proceed.\n",
    "\n",
    "\n",
    "#processDate ='2021-05-31'\n",
    "processDate ='2021-12-31'\n",
    "dataDate = '2021-12-31'  #last business date\n",
    "lastbizDate = dataDate\n",
    "\n",
    "\n",
    "pd.set_option(\"display.max_columns\",None)\n",
    "pd.set_option(\"display.max_rows\",None)\n",
    "\n",
    "constr = f\"mssql+pyodbc://{server}/{db}?driver=SQL+Server\"\n",
    "print(constr)\n",
    "engine = create_engine(constr,echo=False) \n",
    "dbconnection = engine.connect()\n",
    "\n",
    "\n",
    "\n",
    "#test = dbconnection.execute('SELECT dt=getdate()').fetchall()\n",
    "#print(test[0])\n",
    "\n",
    "# to get a clean copy of text to clipboard for testing in SSMS:\n",
    "def cleanSQL(sql):\n",
    "    sqlt = sql\n",
    "    sqlt = sqlt.replace('\\n',\" \")\n",
    "    sqlt = sqlt.replace('\\t',\" \")\n",
    "    df = pd.DataFrame([])\n",
    "    pyperclip.copy(sqlt)\n",
    "    return "
   ]
  },
  {
   "cell_type": "markdown",
   "metadata": {},
   "source": [
    "# Define import file paths and names"
   ]
  },
  {
   "cell_type": "code",
   "execution_count": null,
   "metadata": {
    "ExecuteTime": {
     "end_time": "2022-01-27T01:53:07.763863Z",
     "start_time": "2022-01-27T01:53:07.747217Z"
    }
   },
   "outputs": [],
   "source": [
    "AExcelFname = r\"###.xls\"\n",
    "BExcelFname = r\"###.xls\""
   ]
  },
  {
   "cell_type": "markdown",
   "metadata": {},
   "source": [
    "# Import A data from Excel file to Database Table "
   ]
  },
  {
   "cell_type": "code",
   "execution_count": null,
   "metadata": {
    "ExecuteTime": {
     "end_time": "2022-01-27T01:53:11.780295Z",
     "start_time": "2022-01-27T01:53:09.469082Z"
    },
    "scrolled": true,
    "tags": []
   },
   "outputs": [],
   "source": [
    "dfAspireXl = pd.read_excel(AExcelFname) #, sheet_name='Loans',skiprows = range(0, 5) ,usecols = \"C:BJ\")\n",
    "\n",
    "#number of rows\n",
    "print(f\"rows {len(dfAspireXl.index)}\")\n",
    "#number of cols\n",
    "print(f\"cols {dfAspireXl.shape[1]}\")\n",
    "dfAspireXl.head(2)"
   ]
  },
  {
   "cell_type": "code",
   "execution_count": null,
   "metadata": {
    "ExecuteTime": {
     "end_time": "2022-01-27T02:03:08.301423Z",
     "start_time": "2022-01-27T01:55:09.724611Z"
    }
   },
   "outputs": [],
   "source": [
    "# upload data to staging table\n",
    "\n",
    "table_name = 'A'\n",
    "dfAspireXl.to_sql(table_name, con=dbconnection, if_exists='replace')"
   ]
  },
  {
   "cell_type": "markdown",
   "metadata": {},
   "source": [
    "# Import B data from Excel file to Database Table \n"
   ]
  },
  {
   "cell_type": "code",
   "execution_count": null,
   "metadata": {
    "ExecuteTime": {
     "end_time": "2022-01-27T02:48:01.441327Z",
     "start_time": "2022-01-27T02:47:57.395377Z"
    }
   },
   "outputs": [],
   "source": [
    "dfAspireXl = pd.read_excel(BExcelFname) #, sheet_name='Loans',skiprows = range(0, 5) ,usecols = \"C:BJ\")\n",
    "\n",
    "#number of rows\n",
    "print(f\"rows {len(dfAspireXl.index)}\")\n",
    "#number of cols\n",
    "print(f\"cols {dfAspireXl.shape[1]}\")\n",
    "dfAspireXl.head(2)"
   ]
  },
  {
   "cell_type": "code",
   "execution_count": null,
   "metadata": {
    "ExecuteTime": {
     "end_time": "2022-01-27T02:57:35.430198Z",
     "start_time": "2022-01-27T02:48:18.388780Z"
    }
   },
   "outputs": [],
   "source": [
    "# upload data to staging table\n",
    "\n",
    "table_name = 'B'\n",
    "dfAspireXl.to_sql(table_name, con=dbconnection, if_exists='replace')"
   ]
  },
  {
   "cell_type": "code",
   "execution_count": null,
   "metadata": {},
   "outputs": [],
   "source": []
  }
 ],
 "metadata": {
  "kernelspec": {
   "display_name": "Python 3 (ipykernel)",
   "language": "python",
   "name": "python3"
  },
  "language_info": {
   "codemirror_mode": {
    "name": "ipython",
    "version": 3
   },
   "file_extension": ".py",
   "mimetype": "text/x-python",
   "name": "python",
   "nbconvert_exporter": "python",
   "pygments_lexer": "ipython3",
   "version": "3.9.13"
  },
  "toc": {
   "base_numbering": 1,
   "nav_menu": {
    "height": "12px",
    "width": "270px"
   },
   "number_sections": true,
   "sideBar": true,
   "skip_h1_title": false,
   "title_cell": "Table of Contents",
   "title_sidebar": "Contents",
   "toc_cell": false,
   "toc_position": {
    "height": "540px",
    "left": "38px",
    "top": "187.423px",
    "width": "165px"
   },
   "toc_section_display": true,
   "toc_window_display": true
  },
  "varInspector": {
   "cols": {
    "lenName": 16,
    "lenType": 16,
    "lenVar": 40
   },
   "kernels_config": {
    "python": {
     "delete_cmd_postfix": "",
     "delete_cmd_prefix": "del ",
     "library": "var_list.py",
     "varRefreshCmd": "print(var_dic_list())"
    },
    "r": {
     "delete_cmd_postfix": ") ",
     "delete_cmd_prefix": "rm(",
     "library": "var_list.r",
     "varRefreshCmd": "cat(var_dic_list()) "
    }
   },
   "types_to_exclude": [
    "module",
    "function",
    "builtin_function_or_method",
    "instance",
    "_Feature"
   ],
   "window_display": false
  }
 },
 "nbformat": 4,
 "nbformat_minor": 4
}
